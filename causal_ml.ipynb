{
 "cells": [
  {
   "cell_type": "code",
   "execution_count": 13,
   "metadata": {},
   "outputs": [],
   "source": [
    "import pandas as pd\n",
    "import numpy as np\n",
    "import doubleml as dml\n",
    "from doubleml import DoubleMLPLR\n",
    "from sklearn.ensemble import RandomForestRegressor, RandomForestClassifier"
   ]
  },
  {
   "cell_type": "code",
   "execution_count": 2,
   "metadata": {},
   "outputs": [],
   "source": [
    "np.random.seed(20)"
   ]
  },
  {
   "cell_type": "code",
   "execution_count": 32,
   "metadata": {},
   "outputs": [
    {
     "name": "stdout",
     "output_type": "stream",
     "text": [
      "<class 'pandas.core.frame.DataFrame'>\n",
      "RangeIndex: 15936 entries, 0 to 15935\n",
      "Data columns (total 18 columns):\n",
      " #   Column            Non-Null Count  Dtype  \n",
      "---  ------            --------------  -----  \n",
      " 0   user_id           15936 non-null  object \n",
      " 1   return            15936 non-null  int64  \n",
      " 2   total_eqt_earned  15936 non-null  float64\n",
      " 3   open_crate_count  15936 non-null  float64\n",
      " 4   total_spent_gem   15936 non-null  float64\n",
      " 5   revive_gem        15936 non-null  float64\n",
      " 6   equipment_gem     15936 non-null  float64\n",
      " 7   total_spent_gold  15936 non-null  float64\n",
      " 8   daily_shop_gold   15936 non-null  float64\n",
      " 9   max_stage         15936 non-null  float64\n",
      " 10  stage_end         15936 non-null  float64\n",
      " 11  trial_end         15936 non-null  float64\n",
      " 12  enemy_kill_count  15936 non-null  float64\n",
      " 13  game_level_max    15936 non-null  float64\n",
      " 14  pass_5m_lv1       15936 non-null  float64\n",
      " 15  video_count       15936 non-null  float64\n",
      " 16  session_time      15936 non-null  float64\n",
      " 17  treatment         15936 non-null  int64  \n",
      "dtypes: float64(15), int64(2), object(1)\n",
      "memory usage: 2.2+ MB\n"
     ]
    }
   ],
   "source": [
    "df = pd.read_csv(\"./data/retention_data (3).csv\")\n",
    "df['treatment'] = df['session_time'].apply(lambda x: 1 if x > 180 else 0)\n",
    "df.fillna(0, inplace=True)\n",
    "df.info()"
   ]
  },
  {
   "cell_type": "code",
   "execution_count": 33,
   "metadata": {},
   "outputs": [],
   "source": [
    "potential_confounders = [\n",
    "    'total_eqt_earned', 'open_crate_count',\n",
    "    'total_spent_gem', 'equipment_gem', 'total_spent_gold',\n",
    "    'daily_shop_gold', 'max_stage', 'stage_end', 'trial_end',\n",
    "    'enemy_kill_count', 'game_level_max'\n",
    "]\n",
    "\n",
    "data_dml = dml.DoubleMLData(\n",
    "    data=df,\n",
    "    y_col='video_count',\n",
    "    d_cols='treatment',\n",
    "    x_cols=potential_confounders,\n",
    ")"
   ]
  },
  {
   "cell_type": "code",
   "execution_count": 34,
   "metadata": {},
   "outputs": [],
   "source": [
    "rf_1 = RandomForestRegressor(n_estimators=1000, random_state=0)\n",
    "rf_2 = RandomForestClassifier(n_estimators=1000, random_state=0)\n",
    "\n",
    "# DoubleML partially linear regression model\n",
    "dml_plr = DoubleMLPLR(\n",
    "    obj_dml_data=data_dml,\n",
    "    ml_l=rf_1,\n",
    "    ml_m=rf_2,\n",
    ")"
   ]
  },
  {
   "cell_type": "code",
   "execution_count": 35,
   "metadata": {},
   "outputs": [
    {
     "name": "stderr",
     "output_type": "stream",
     "text": [
      "c:\\Python310\\lib\\site-packages\\doubleml\\_utils_checks.py:204: UserWarning: Propensity predictions from learner RandomForestClassifier(n_estimators=1000, random_state=0) for ml_m are close to zero or one (eps=1e-12).\n",
      "  warnings.warn(f'Propensity predictions from learner {str(learner)} for'\n"
     ]
    },
    {
     "data": {
      "text/html": [
       "<div>\n",
       "<style scoped>\n",
       "    .dataframe tbody tr th:only-of-type {\n",
       "        vertical-align: middle;\n",
       "    }\n",
       "\n",
       "    .dataframe tbody tr th {\n",
       "        vertical-align: top;\n",
       "    }\n",
       "\n",
       "    .dataframe thead th {\n",
       "        text-align: right;\n",
       "    }\n",
       "</style>\n",
       "<table border=\"1\" class=\"dataframe\">\n",
       "  <thead>\n",
       "    <tr style=\"text-align: right;\">\n",
       "      <th></th>\n",
       "      <th>coef</th>\n",
       "      <th>std err</th>\n",
       "      <th>t</th>\n",
       "      <th>P&gt;|t|</th>\n",
       "      <th>2.5 %</th>\n",
       "      <th>97.5 %</th>\n",
       "    </tr>\n",
       "  </thead>\n",
       "  <tbody>\n",
       "    <tr>\n",
       "      <th>treatment</th>\n",
       "      <td>2.385538</td>\n",
       "      <td>0.408345</td>\n",
       "      <td>5.841972</td>\n",
       "      <td>5.158655e-09</td>\n",
       "      <td>1.585197</td>\n",
       "      <td>3.185879</td>\n",
       "    </tr>\n",
       "  </tbody>\n",
       "</table>\n",
       "</div>"
      ],
      "text/plain": [
       "               coef   std err         t         P>|t|     2.5 %    97.5 %\n",
       "treatment  2.385538  0.408345  5.841972  5.158655e-09  1.585197  3.185879"
      ]
     },
     "execution_count": 35,
     "metadata": {},
     "output_type": "execute_result"
    }
   ],
   "source": [
    "# Run estimation\n",
    "dml_plr.fit()\n",
    "\n",
    "# Print estimation results\n",
    "dml_plr.summary"
   ]
  },
  {
   "cell_type": "code",
   "execution_count": 36,
   "metadata": {},
   "outputs": [
    {
     "data": {
      "text/plain": [
       "treatment\n",
       "0    10152\n",
       "1     5784\n",
       "Name: video_count, dtype: int64"
      ]
     },
     "execution_count": 36,
     "metadata": {},
     "output_type": "execute_result"
    }
   ],
   "source": [
    "df.groupby(['treatment'])['video_count'].count()"
   ]
  },
  {
   "cell_type": "code",
   "execution_count": null,
   "metadata": {},
   "outputs": [],
   "source": []
  }
 ],
 "metadata": {
  "kernelspec": {
   "display_name": "Python 3",
   "language": "python",
   "name": "python3"
  },
  "language_info": {
   "codemirror_mode": {
    "name": "ipython",
    "version": 3
   },
   "file_extension": ".py",
   "mimetype": "text/x-python",
   "name": "python",
   "nbconvert_exporter": "python",
   "pygments_lexer": "ipython3",
   "version": "3.10.0"
  },
  "orig_nbformat": 4
 },
 "nbformat": 4,
 "nbformat_minor": 2
}
