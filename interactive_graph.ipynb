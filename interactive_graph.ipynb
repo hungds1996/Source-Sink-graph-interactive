{
 "cells": [
  {
   "cell_type": "code",
   "execution_count": 3,
   "metadata": {},
   "outputs": [],
   "source": [
    "from pyvis import network as net\n",
    "from IPython.display import display, HTML\n",
    "import random\n",
    "import pandas as pd"
   ]
  },
  {
   "cell_type": "code",
   "execution_count": 11,
   "metadata": {},
   "outputs": [],
   "source": [
    "import pandas as pd\n",
    "import numpy as np\n",
    "import plotly\n",
    "import plotly.graph_objs as go\n",
    "import plotly.express as px"
   ]
  },
  {
   "cell_type": "code",
   "execution_count": 6,
   "metadata": {},
   "outputs": [
    {
     "data": {
      "text/html": [
       "<div>\n",
       "<style scoped>\n",
       "    .dataframe tbody tr th:only-of-type {\n",
       "        vertical-align: middle;\n",
       "    }\n",
       "\n",
       "    .dataframe tbody tr th {\n",
       "        vertical-align: top;\n",
       "    }\n",
       "\n",
       "    .dataframe thead th {\n",
       "        text-align: right;\n",
       "    }\n",
       "</style>\n",
       "<table border=\"1\" class=\"dataframe\">\n",
       "  <thead>\n",
       "    <tr style=\"text-align: right;\">\n",
       "      <th></th>\n",
       "      <th>purchase_count</th>\n",
       "      <th>source</th>\n",
       "      <th>target</th>\n",
       "      <th>user</th>\n",
       "    </tr>\n",
       "  </thead>\n",
       "  <tbody>\n",
       "    <tr>\n",
       "      <th>0</th>\n",
       "      <td>1</td>\n",
       "      <td>1. $1.99</td>\n",
       "      <td>2. $0.99</td>\n",
       "      <td>21</td>\n",
       "    </tr>\n",
       "    <tr>\n",
       "      <th>1</th>\n",
       "      <td>1</td>\n",
       "      <td>1. $9.99</td>\n",
       "      <td>NaN</td>\n",
       "      <td>11</td>\n",
       "    </tr>\n",
       "    <tr>\n",
       "      <th>2</th>\n",
       "      <td>1</td>\n",
       "      <td>1. $1.99</td>\n",
       "      <td>NaN</td>\n",
       "      <td>33</td>\n",
       "    </tr>\n",
       "    <tr>\n",
       "      <th>3</th>\n",
       "      <td>1</td>\n",
       "      <td>1. $19.99</td>\n",
       "      <td>2. $9.99</td>\n",
       "      <td>1</td>\n",
       "    </tr>\n",
       "    <tr>\n",
       "      <th>4</th>\n",
       "      <td>1</td>\n",
       "      <td>1. $0.99</td>\n",
       "      <td>2. $1.99</td>\n",
       "      <td>8</td>\n",
       "    </tr>\n",
       "  </tbody>\n",
       "</table>\n",
       "</div>"
      ],
      "text/plain": [
       "   purchase_count     source    target  user\n",
       "0               1   1. $1.99  2. $0.99    21\n",
       "1               1   1. $9.99       NaN    11\n",
       "2               1   1. $1.99       NaN    33\n",
       "3               1  1. $19.99  2. $9.99     1\n",
       "4               1   1. $0.99  2. $1.99     8"
      ]
     },
     "execution_count": 6,
     "metadata": {},
     "output_type": "execute_result"
    }
   ],
   "source": [
    "df = pd.read_csv('data/purchase.csv')\n",
    "df = df[(df['purchase_count']>0)&(df['purchase_count']<=5)]\n",
    "# df.dropna(inplace=True)\n",
    "# df['user_choice_pct'] = df.apply(lambda x: x['times'] / df.groupby(['source'])['times'].sum()[x['source']], axis=1)\n",
    "df.head()"
   ]
  },
  {
   "cell_type": "code",
   "execution_count": 17,
   "metadata": {},
   "outputs": [
    {
     "data": {
      "text/html": [
       "<div>\n",
       "<style scoped>\n",
       "    .dataframe tbody tr th:only-of-type {\n",
       "        vertical-align: middle;\n",
       "    }\n",
       "\n",
       "    .dataframe tbody tr th {\n",
       "        vertical-align: top;\n",
       "    }\n",
       "\n",
       "    .dataframe thead th {\n",
       "        text-align: right;\n",
       "    }\n",
       "</style>\n",
       "<table border=\"1\" class=\"dataframe\">\n",
       "  <thead>\n",
       "    <tr style=\"text-align: right;\">\n",
       "      <th></th>\n",
       "      <th>purchase_count</th>\n",
       "      <th>source</th>\n",
       "      <th>target</th>\n",
       "      <th>user</th>\n",
       "    </tr>\n",
       "  </thead>\n",
       "  <tbody>\n",
       "    <tr>\n",
       "      <th>0</th>\n",
       "      <td>1</td>\n",
       "      <td>1. $1.99</td>\n",
       "      <td>2. $0.99</td>\n",
       "      <td>21</td>\n",
       "    </tr>\n",
       "    <tr>\n",
       "      <th>3</th>\n",
       "      <td>1</td>\n",
       "      <td>1. $19.99</td>\n",
       "      <td>2. $9.99</td>\n",
       "      <td>1</td>\n",
       "    </tr>\n",
       "    <tr>\n",
       "      <th>4</th>\n",
       "      <td>1</td>\n",
       "      <td>1. $0.99</td>\n",
       "      <td>2. $1.99</td>\n",
       "      <td>8</td>\n",
       "    </tr>\n",
       "    <tr>\n",
       "      <th>5</th>\n",
       "      <td>1</td>\n",
       "      <td>1. $4.99</td>\n",
       "      <td>2. $1.99</td>\n",
       "      <td>3</td>\n",
       "    </tr>\n",
       "    <tr>\n",
       "      <th>6</th>\n",
       "      <td>1</td>\n",
       "      <td>1. $9.99</td>\n",
       "      <td>2. $6.99</td>\n",
       "      <td>3</td>\n",
       "    </tr>\n",
       "  </tbody>\n",
       "</table>\n",
       "</div>"
      ],
      "text/plain": [
       "   purchase_count     source    target  user\n",
       "0               1   1. $1.99  2. $0.99    21\n",
       "3               1  1. $19.99  2. $9.99     1\n",
       "4               1   1. $0.99  2. $1.99     8\n",
       "5               1   1. $4.99  2. $1.99     3\n",
       "6               1   1. $9.99  2. $6.99     3"
      ]
     },
     "execution_count": 17,
     "metadata": {},
     "output_type": "execute_result"
    }
   ],
   "source": [
    "df = pd.read_csv('./data/purchase.csv')\n",
    "df = df[(df['purchase_count']<=1)]\n",
    "# df['target'].fillna('EXIT', inplace=True)\n",
    "df = df.dropna()\n",
    "# df = df.sort_values(\"user\", ascending=True)\n",
    "# df['pct'] = df.apply(lambda x: x['user'] / df.groupby(['source'])['user'].sum()[x['source']], axis=1)\n",
    "df.head()"
   ]
  },
  {
   "cell_type": "code",
   "execution_count": 18,
   "metadata": {},
   "outputs": [
    {
     "data": {
      "application/vnd.plotly.v1+json": {
       "config": {
        "plotlyServerURL": "https://plot.ly"
       },
       "data": [
        {
         "link": {
          "color": [
           "#782AB6",
           "#1CBE4F",
           "#85660D",
           "#FE00FA",
           "#FE00FA",
           "#FE00FA",
           "#782AB6",
           "#FEAF16",
           "#782AB6",
           "#2ED9FF",
           "#85660D",
           "#782AB6",
           "#FE00FA",
           "#782AB6",
           "#FE00FA",
           "#85660D",
           "#782AB6",
           "#782AB6",
           "#1CBE4F",
           "#90AD1C",
           "#85660D",
           "#2ED9FF",
           "#85660D",
           "#2ED9FF",
           "#FE00FA",
           "#85660D",
           "#2ED9FF",
           "#85660D",
           "#FE00FA",
           "#1CBE4F",
           "#85660D",
           "#85660D",
           "#FE00FA",
           "#2ED9FF",
           "#2ED9FF",
           "#85660D",
           "#85660D"
          ],
          "source": [
           0,
           1,
           2,
           3,
           4,
           4,
           0,
           7,
           0,
           9,
           10,
           0,
           4,
           0,
           3,
           2,
           0,
           0,
           1,
           19,
           2,
           9,
           2,
           9,
           4,
           2,
           9,
           2,
           3,
           1,
           2,
           2,
           4,
           9,
           9,
           10,
           10
          ],
          "target": [
           37,
           38,
           39,
           39,
           41,
           42,
           39,
           44,
           45,
           37,
           37,
           42,
           37,
           38,
           37,
           38,
           53,
           54,
           37,
           54,
           53,
           45,
           37,
           39,
           45,
           45,
           42,
           44,
           54,
           39,
           42,
           68,
           39,
           38,
           54,
           54,
           44
          ],
          "value": [
           21,
           1,
           8,
           3,
           3,
           3,
           8,
           1,
           15,
           6,
           1,
           2,
           4,
           7,
           2,
           2,
           1,
           3,
           2,
           2,
           1,
           12,
           25,
           3,
           2,
           4,
           1,
           5,
           1,
           2,
           3,
           1,
           2,
           1,
           1,
           1,
           1
          ]
         },
         "node": {
          "color": [
           "#782AB6",
           "#1CBE4F",
           "#85660D",
           "#FE00FA",
           "#FE00FA",
           "#FE00FA",
           "#782AB6",
           "#FEAF16",
           "#782AB6",
           "#2ED9FF",
           "#85660D",
           "#782AB6",
           "#FE00FA",
           "#782AB6",
           "#FE00FA",
           "#85660D",
           "#782AB6",
           "#782AB6",
           "#1CBE4F",
           "#90AD1C",
           "#85660D",
           "#2ED9FF",
           "#85660D",
           "#2ED9FF",
           "#FE00FA",
           "#85660D",
           "#2ED9FF",
           "#85660D",
           "#FE00FA",
           "#1CBE4F",
           "#85660D",
           "#85660D",
           "#FE00FA",
           "#2ED9FF",
           "#2ED9FF",
           "#85660D",
           "#85660D",
           "#1CBE4F",
           "#2ED9FF",
           "#C075A6",
           "#C075A6",
           "#FE00FA",
           "#1CFFCE",
           "#C075A6",
           "#B10DA1",
           "#1CBE4F",
           "#1CBE4F",
           "#1CBE4F",
           "#1CFFCE",
           "#1CBE4F",
           "#2ED9FF",
           "#1CBE4F",
           "#2ED9FF",
           "#C4451C",
           "#16FF32",
           "#1CBE4F",
           "#16FF32",
           "#C4451C",
           "#1CBE4F",
           "#1CBE4F",
           "#C075A6",
           "#1CBE4F",
           "#1CBE4F",
           "#1CFFCE",
           "#B10DA1",
           "#16FF32",
           "#C075A6",
           "#1CFFCE",
           "#16FF32",
           "#C075A6",
           "#2ED9FF",
           "#16FF32",
           "#16FF32",
           "#B10DA1"
          ],
          "label": [
           "1. $1.99",
           "1. $19.99",
           "1. $0.99",
           "1. $4.99",
           "1. $9.99",
           "1. $9.99",
           "1. $1.99",
           "1. $3.99",
           "1. $1.99",
           "1. $2.99",
           "1. $0.39",
           "1. $1.99",
           "1. $9.99",
           "1. $1.99",
           "1. $4.99",
           "1. $0.99",
           "1. $1.99",
           "1. $1.99",
           "1. $19.99",
           "1. $6.99",
           "1. $0.99",
           "1. $2.99",
           "1. $0.99",
           "1. $2.99",
           "1. $9.99",
           "1. $0.99",
           "1. $2.99",
           "1. $0.99",
           "1. $4.99",
           "1. $19.99",
           "1. $0.99",
           "1. $0.99",
           "1. $9.99",
           "1. $2.99",
           "1. $2.99",
           "1. $0.39",
           "1. $0.39",
           "2. $0.99",
           "2. $9.99",
           "2. $1.99",
           "2. $1.99",
           "2. $6.99",
           "2. $4.99",
           "2. $1.99",
           "2. $0.39",
           "2. $2.99",
           "2. $0.99",
           "2. $0.99",
           "2. $4.99",
           "2. $0.99",
           "2. $9.99",
           "2. $0.99",
           "2. $9.99",
           "2. $7.99",
           "2. $19.99",
           "2. $0.99",
           "2. $19.99",
           "2. $7.99",
           "2. $2.99",
           "2. $0.99",
           "2. $1.99",
           "2. $2.99",
           "2. $2.99",
           "2. $4.99",
           "2. $0.39",
           "2. $19.99",
           "2. $1.99",
           "2. $4.99",
           "2. $49.99",
           "2. $1.99",
           "2. $9.99",
           "2. $19.99",
           "2. $19.99",
           "2. $0.39"
          ],
          "line": {
           "color": "black",
           "width": 1
          },
          "pad": 20,
          "thickness": 20
         },
         "type": "sankey"
        }
       ],
       "layout": {
        "font": {
         "color": "white",
         "size": 10
        },
        "height": 1000,
        "paper_bgcolor": "grey",
        "plot_bgcolor": "rgba(0,0,0,0)",
        "template": {
         "data": {
          "bar": [
           {
            "error_x": {
             "color": "#2a3f5f"
            },
            "error_y": {
             "color": "#2a3f5f"
            },
            "marker": {
             "line": {
              "color": "#E5ECF6",
              "width": 0.5
             },
             "pattern": {
              "fillmode": "overlay",
              "size": 10,
              "solidity": 0.2
             }
            },
            "type": "bar"
           }
          ],
          "barpolar": [
           {
            "marker": {
             "line": {
              "color": "#E5ECF6",
              "width": 0.5
             },
             "pattern": {
              "fillmode": "overlay",
              "size": 10,
              "solidity": 0.2
             }
            },
            "type": "barpolar"
           }
          ],
          "carpet": [
           {
            "aaxis": {
             "endlinecolor": "#2a3f5f",
             "gridcolor": "white",
             "linecolor": "white",
             "minorgridcolor": "white",
             "startlinecolor": "#2a3f5f"
            },
            "baxis": {
             "endlinecolor": "#2a3f5f",
             "gridcolor": "white",
             "linecolor": "white",
             "minorgridcolor": "white",
             "startlinecolor": "#2a3f5f"
            },
            "type": "carpet"
           }
          ],
          "choropleth": [
           {
            "colorbar": {
             "outlinewidth": 0,
             "ticks": ""
            },
            "type": "choropleth"
           }
          ],
          "contour": [
           {
            "colorbar": {
             "outlinewidth": 0,
             "ticks": ""
            },
            "colorscale": [
             [
              0,
              "#0d0887"
             ],
             [
              0.1111111111111111,
              "#46039f"
             ],
             [
              0.2222222222222222,
              "#7201a8"
             ],
             [
              0.3333333333333333,
              "#9c179e"
             ],
             [
              0.4444444444444444,
              "#bd3786"
             ],
             [
              0.5555555555555556,
              "#d8576b"
             ],
             [
              0.6666666666666666,
              "#ed7953"
             ],
             [
              0.7777777777777778,
              "#fb9f3a"
             ],
             [
              0.8888888888888888,
              "#fdca26"
             ],
             [
              1,
              "#f0f921"
             ]
            ],
            "type": "contour"
           }
          ],
          "contourcarpet": [
           {
            "colorbar": {
             "outlinewidth": 0,
             "ticks": ""
            },
            "type": "contourcarpet"
           }
          ],
          "heatmap": [
           {
            "colorbar": {
             "outlinewidth": 0,
             "ticks": ""
            },
            "colorscale": [
             [
              0,
              "#0d0887"
             ],
             [
              0.1111111111111111,
              "#46039f"
             ],
             [
              0.2222222222222222,
              "#7201a8"
             ],
             [
              0.3333333333333333,
              "#9c179e"
             ],
             [
              0.4444444444444444,
              "#bd3786"
             ],
             [
              0.5555555555555556,
              "#d8576b"
             ],
             [
              0.6666666666666666,
              "#ed7953"
             ],
             [
              0.7777777777777778,
              "#fb9f3a"
             ],
             [
              0.8888888888888888,
              "#fdca26"
             ],
             [
              1,
              "#f0f921"
             ]
            ],
            "type": "heatmap"
           }
          ],
          "heatmapgl": [
           {
            "colorbar": {
             "outlinewidth": 0,
             "ticks": ""
            },
            "colorscale": [
             [
              0,
              "#0d0887"
             ],
             [
              0.1111111111111111,
              "#46039f"
             ],
             [
              0.2222222222222222,
              "#7201a8"
             ],
             [
              0.3333333333333333,
              "#9c179e"
             ],
             [
              0.4444444444444444,
              "#bd3786"
             ],
             [
              0.5555555555555556,
              "#d8576b"
             ],
             [
              0.6666666666666666,
              "#ed7953"
             ],
             [
              0.7777777777777778,
              "#fb9f3a"
             ],
             [
              0.8888888888888888,
              "#fdca26"
             ],
             [
              1,
              "#f0f921"
             ]
            ],
            "type": "heatmapgl"
           }
          ],
          "histogram": [
           {
            "marker": {
             "pattern": {
              "fillmode": "overlay",
              "size": 10,
              "solidity": 0.2
             }
            },
            "type": "histogram"
           }
          ],
          "histogram2d": [
           {
            "colorbar": {
             "outlinewidth": 0,
             "ticks": ""
            },
            "colorscale": [
             [
              0,
              "#0d0887"
             ],
             [
              0.1111111111111111,
              "#46039f"
             ],
             [
              0.2222222222222222,
              "#7201a8"
             ],
             [
              0.3333333333333333,
              "#9c179e"
             ],
             [
              0.4444444444444444,
              "#bd3786"
             ],
             [
              0.5555555555555556,
              "#d8576b"
             ],
             [
              0.6666666666666666,
              "#ed7953"
             ],
             [
              0.7777777777777778,
              "#fb9f3a"
             ],
             [
              0.8888888888888888,
              "#fdca26"
             ],
             [
              1,
              "#f0f921"
             ]
            ],
            "type": "histogram2d"
           }
          ],
          "histogram2dcontour": [
           {
            "colorbar": {
             "outlinewidth": 0,
             "ticks": ""
            },
            "colorscale": [
             [
              0,
              "#0d0887"
             ],
             [
              0.1111111111111111,
              "#46039f"
             ],
             [
              0.2222222222222222,
              "#7201a8"
             ],
             [
              0.3333333333333333,
              "#9c179e"
             ],
             [
              0.4444444444444444,
              "#bd3786"
             ],
             [
              0.5555555555555556,
              "#d8576b"
             ],
             [
              0.6666666666666666,
              "#ed7953"
             ],
             [
              0.7777777777777778,
              "#fb9f3a"
             ],
             [
              0.8888888888888888,
              "#fdca26"
             ],
             [
              1,
              "#f0f921"
             ]
            ],
            "type": "histogram2dcontour"
           }
          ],
          "mesh3d": [
           {
            "colorbar": {
             "outlinewidth": 0,
             "ticks": ""
            },
            "type": "mesh3d"
           }
          ],
          "parcoords": [
           {
            "line": {
             "colorbar": {
              "outlinewidth": 0,
              "ticks": ""
             }
            },
            "type": "parcoords"
           }
          ],
          "pie": [
           {
            "automargin": true,
            "type": "pie"
           }
          ],
          "scatter": [
           {
            "fillpattern": {
             "fillmode": "overlay",
             "size": 10,
             "solidity": 0.2
            },
            "type": "scatter"
           }
          ],
          "scatter3d": [
           {
            "line": {
             "colorbar": {
              "outlinewidth": 0,
              "ticks": ""
             }
            },
            "marker": {
             "colorbar": {
              "outlinewidth": 0,
              "ticks": ""
             }
            },
            "type": "scatter3d"
           }
          ],
          "scattercarpet": [
           {
            "marker": {
             "colorbar": {
              "outlinewidth": 0,
              "ticks": ""
             }
            },
            "type": "scattercarpet"
           }
          ],
          "scattergeo": [
           {
            "marker": {
             "colorbar": {
              "outlinewidth": 0,
              "ticks": ""
             }
            },
            "type": "scattergeo"
           }
          ],
          "scattergl": [
           {
            "marker": {
             "colorbar": {
              "outlinewidth": 0,
              "ticks": ""
             }
            },
            "type": "scattergl"
           }
          ],
          "scattermapbox": [
           {
            "marker": {
             "colorbar": {
              "outlinewidth": 0,
              "ticks": ""
             }
            },
            "type": "scattermapbox"
           }
          ],
          "scatterpolar": [
           {
            "marker": {
             "colorbar": {
              "outlinewidth": 0,
              "ticks": ""
             }
            },
            "type": "scatterpolar"
           }
          ],
          "scatterpolargl": [
           {
            "marker": {
             "colorbar": {
              "outlinewidth": 0,
              "ticks": ""
             }
            },
            "type": "scatterpolargl"
           }
          ],
          "scatterternary": [
           {
            "marker": {
             "colorbar": {
              "outlinewidth": 0,
              "ticks": ""
             }
            },
            "type": "scatterternary"
           }
          ],
          "surface": [
           {
            "colorbar": {
             "outlinewidth": 0,
             "ticks": ""
            },
            "colorscale": [
             [
              0,
              "#0d0887"
             ],
             [
              0.1111111111111111,
              "#46039f"
             ],
             [
              0.2222222222222222,
              "#7201a8"
             ],
             [
              0.3333333333333333,
              "#9c179e"
             ],
             [
              0.4444444444444444,
              "#bd3786"
             ],
             [
              0.5555555555555556,
              "#d8576b"
             ],
             [
              0.6666666666666666,
              "#ed7953"
             ],
             [
              0.7777777777777778,
              "#fb9f3a"
             ],
             [
              0.8888888888888888,
              "#fdca26"
             ],
             [
              1,
              "#f0f921"
             ]
            ],
            "type": "surface"
           }
          ],
          "table": [
           {
            "cells": {
             "fill": {
              "color": "#EBF0F8"
             },
             "line": {
              "color": "white"
             }
            },
            "header": {
             "fill": {
              "color": "#C8D4E3"
             },
             "line": {
              "color": "white"
             }
            },
            "type": "table"
           }
          ]
         },
         "layout": {
          "annotationdefaults": {
           "arrowcolor": "#2a3f5f",
           "arrowhead": 0,
           "arrowwidth": 1
          },
          "autotypenumbers": "strict",
          "coloraxis": {
           "colorbar": {
            "outlinewidth": 0,
            "ticks": ""
           }
          },
          "colorscale": {
           "diverging": [
            [
             0,
             "#8e0152"
            ],
            [
             0.1,
             "#c51b7d"
            ],
            [
             0.2,
             "#de77ae"
            ],
            [
             0.3,
             "#f1b6da"
            ],
            [
             0.4,
             "#fde0ef"
            ],
            [
             0.5,
             "#f7f7f7"
            ],
            [
             0.6,
             "#e6f5d0"
            ],
            [
             0.7,
             "#b8e186"
            ],
            [
             0.8,
             "#7fbc41"
            ],
            [
             0.9,
             "#4d9221"
            ],
            [
             1,
             "#276419"
            ]
           ],
           "sequential": [
            [
             0,
             "#0d0887"
            ],
            [
             0.1111111111111111,
             "#46039f"
            ],
            [
             0.2222222222222222,
             "#7201a8"
            ],
            [
             0.3333333333333333,
             "#9c179e"
            ],
            [
             0.4444444444444444,
             "#bd3786"
            ],
            [
             0.5555555555555556,
             "#d8576b"
            ],
            [
             0.6666666666666666,
             "#ed7953"
            ],
            [
             0.7777777777777778,
             "#fb9f3a"
            ],
            [
             0.8888888888888888,
             "#fdca26"
            ],
            [
             1,
             "#f0f921"
            ]
           ],
           "sequentialminus": [
            [
             0,
             "#0d0887"
            ],
            [
             0.1111111111111111,
             "#46039f"
            ],
            [
             0.2222222222222222,
             "#7201a8"
            ],
            [
             0.3333333333333333,
             "#9c179e"
            ],
            [
             0.4444444444444444,
             "#bd3786"
            ],
            [
             0.5555555555555556,
             "#d8576b"
            ],
            [
             0.6666666666666666,
             "#ed7953"
            ],
            [
             0.7777777777777778,
             "#fb9f3a"
            ],
            [
             0.8888888888888888,
             "#fdca26"
            ],
            [
             1,
             "#f0f921"
            ]
           ]
          },
          "colorway": [
           "#636efa",
           "#EF553B",
           "#00cc96",
           "#ab63fa",
           "#FFA15A",
           "#19d3f3",
           "#FF6692",
           "#B6E880",
           "#FF97FF",
           "#FECB52"
          ],
          "font": {
           "color": "#2a3f5f"
          },
          "geo": {
           "bgcolor": "white",
           "lakecolor": "white",
           "landcolor": "#E5ECF6",
           "showlakes": true,
           "showland": true,
           "subunitcolor": "white"
          },
          "hoverlabel": {
           "align": "left"
          },
          "hovermode": "closest",
          "mapbox": {
           "style": "light"
          },
          "paper_bgcolor": "white",
          "plot_bgcolor": "#E5ECF6",
          "polar": {
           "angularaxis": {
            "gridcolor": "white",
            "linecolor": "white",
            "ticks": ""
           },
           "bgcolor": "#E5ECF6",
           "radialaxis": {
            "gridcolor": "white",
            "linecolor": "white",
            "ticks": ""
           }
          },
          "scene": {
           "xaxis": {
            "backgroundcolor": "#E5ECF6",
            "gridcolor": "white",
            "gridwidth": 2,
            "linecolor": "white",
            "showbackground": true,
            "ticks": "",
            "zerolinecolor": "white"
           },
           "yaxis": {
            "backgroundcolor": "#E5ECF6",
            "gridcolor": "white",
            "gridwidth": 2,
            "linecolor": "white",
            "showbackground": true,
            "ticks": "",
            "zerolinecolor": "white"
           },
           "zaxis": {
            "backgroundcolor": "#E5ECF6",
            "gridcolor": "white",
            "gridwidth": 2,
            "linecolor": "white",
            "showbackground": true,
            "ticks": "",
            "zerolinecolor": "white"
           }
          },
          "shapedefaults": {
           "line": {
            "color": "#2a3f5f"
           }
          },
          "ternary": {
           "aaxis": {
            "gridcolor": "white",
            "linecolor": "white",
            "ticks": ""
           },
           "baxis": {
            "gridcolor": "white",
            "linecolor": "white",
            "ticks": ""
           },
           "bgcolor": "#E5ECF6",
           "caxis": {
            "gridcolor": "white",
            "linecolor": "white",
            "ticks": ""
           }
          },
          "title": {
           "x": 0.05
          },
          "xaxis": {
           "automargin": true,
           "gridcolor": "white",
           "linecolor": "white",
           "ticks": "",
           "title": {
            "standoff": 15
           },
           "zerolinecolor": "white",
           "zerolinewidth": 2
          },
          "yaxis": {
           "automargin": true,
           "gridcolor": "white",
           "linecolor": "white",
           "ticks": "",
           "title": {
            "standoff": 15
           },
           "zerolinecolor": "white",
           "zerolinewidth": 2
          }
         }
        },
        "title": {
         "text": "User journry stage 1"
        }
       }
      }
     },
     "metadata": {},
     "output_type": "display_data"
    }
   ],
   "source": [
    "all_nodes = df.source.values.tolist() + df.target.values.tolist()\n",
    "\n",
    "source_indices = [all_nodes.index(source) for source in df.source]\n",
    "target_indices = [all_nodes.index(target) for target in df.target]\n",
    "\n",
    "colors = px.colors.qualitative.Alphabet\n",
    "\n",
    "node_colors_mappings = dict([(node, np.random.choice(colors)) for node in all_nodes])\n",
    "\n",
    "node_colors = [node_colors_mappings[node] for node in all_nodes]\n",
    "edge_colors = [node_colors_mappings[node] for node in df.source]\n",
    "\n",
    "fig = go.Figure(data=[\n",
    "    go.Sankey(\n",
    "        node=dict(pad=20,\n",
    "                  thickness=20,\n",
    "                  line=dict(color='black', width=1.0),\n",
    "                  label=all_nodes,\n",
    "                  color=node_colors),\n",
    "        link=dict(source=source_indices,\n",
    "                  target=target_indices,\n",
    "                  value=df.user,\n",
    "                  color=edge_colors)\n",
    "    )\n",
    "])\n",
    "\n",
    "fig.update_layout(title_text=\"User journry stage 1\",\n",
    "                  height=1000,\n",
    "                  font=dict(size=10, color='white'),\n",
    "                  plot_bgcolor='rgba(0,0,0,0)',\n",
    "                  paper_bgcolor='grey')\n",
    "\n",
    "fig.show()"
   ]
  },
  {
   "cell_type": "code",
   "execution_count": 27,
   "metadata": {},
   "outputs": [
    {
     "data": {
      "text/plain": [
       "<module '_plotly_utils.colors.qualitative' from 'C:\\\\Users\\\\hungd\\\\AppData\\\\Roaming\\\\Python\\\\Python310\\\\site-packages\\\\_plotly_utils\\\\colors\\\\qualitative.py'>"
      ]
     },
     "execution_count": 27,
     "metadata": {},
     "output_type": "execute_result"
    }
   ],
   "source": [
    "{\"event_id\":\"client_get_ingame_item\",\"id\":\"86350896-2c0c-45bc-b9bc-92d429792c58\",\"user_id\":\"ced39b0d-bb99-4450-b3f5-2420457b5d29\",\"device_id\":\"xxxx\",\"adid\":\"xxxx\",\"login_count\":10,\"ts\":1697003755006,\"day\":25661010,\"register_ts\":1696460105,\"os\":\"ANDROID\",\"client_version\":1052,\"spt\":517280,\"total_spt\":11237471,\"ab_test_segment\":\"8C\",\"level\":12,\"exp\":13331,\"lifetime_spend\":0,\"purchase_count\":0,\"paid_gold\":60000,\"free_gold\":482126,\"free_gem\":640,\"gem\":970,\"tracker_name\":\"Unattributed\",\"network\":\"Unattributed\",\"campaign\":\"\",\"adgroup\":\"\",\"creative\":\"\",\"locale\":\"Thai\",\"timezone_offset\":7,\"os_version\":\"13\",\"paid_gem\":1780,\"gold\":2626,\"stage\":1000003,\"game_type\":\"Normal\",\"game_session_id\":\"8193d0b3-9174-4ede-b78a-f5e6121239da\",\"game_level\":13,\"session_time\":305,\"game_exp\":757,\"hp\":965,\"active_skill\":\"{\"1110009\":3,\"1120010\":2,\"1120002\":4,\"1120000\":1,\"1120005\":1}\",\"passive_skill\":\"{\"1130005\":1,\"1130002\":3,\"1130007\":1,\"1130006\":2,\"1130001\":1,\"1130000\":1}\",\"type\":\"Use\",\"item_type\":\"None\",\"earn_gold\":0,\"context_id\":\"1697003744075 651ded49392579ff6ee267fb 12\"}"
   ]
  }
 ],
 "metadata": {
  "kernelspec": {
   "display_name": "Python 3",
   "language": "python",
   "name": "python3"
  },
  "language_info": {
   "codemirror_mode": {
    "name": "ipython",
    "version": 3
   },
   "file_extension": ".py",
   "mimetype": "text/x-python",
   "name": "python",
   "nbconvert_exporter": "python",
   "pygments_lexer": "ipython3",
   "version": "3.10.0"
  },
  "orig_nbformat": 4
 },
 "nbformat": 4,
 "nbformat_minor": 2
}
